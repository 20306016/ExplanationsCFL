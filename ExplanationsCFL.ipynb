{
 "cells": [
  {
   "cell_type": "code",
   "execution_count": 200,
   "id": "7b4b8947-e23c-46ec-9f3c-dcdbd65e3f85",
   "metadata": {},
   "outputs": [],
   "source": [
    "import pandas as pd\n",
    "import matplotlib.pyplot as plt\n",
    "import numpy as np\n",
    "import gurobipy as gp\n",
    "from gurobipy import GRB\n",
    "import networkx as nx"
   ]
  },
  {
   "cell_type": "code",
   "execution_count": 305,
   "id": "d5800d4b-c693-401d-a1e6-0c1e5a029dfd",
   "metadata": {},
   "outputs": [],
   "source": [
    "#Solve the CFL (linear)\n",
    "# D available locations, E competitive locations C=E\\cup E\n",
    "#utility function v_c^n(beta,distance,x) e.g. v_c^n=-beta*distance-x\n",
    "#q_n weight of each customer"
   ]
  },
  {
   "cell_type": "code",
   "execution_count": 306,
   "id": "3420057d-80d4-4042-9e22-71fa8773dcdd",
   "metadata": {},
   "outputs": [],
   "source": [
    "#Generate data\n",
    "def generate_instance(D_size, E_size, N_size, width=20, seed=0):\n",
    "    \"\"\"\n",
    "    Generate an instance.\n",
    "    \n",
    "    Args:\n",
    "        D_size (int): Number of available locations\n",
    "        E_size (int): Number of competitive facilities\n",
    "        N_size (int): Number of customers\n",
    "        width (int): width of the square on which customers are uniformly distributed\n",
    "        seed (int): seed provided to the random number generator\n",
    "\n",
    "    Returns:\n",
    "        dict: Diccionario con conjuntos y parámetros generados.\n",
    "    \"\"\"\n",
    "    if seed != 0:\n",
    "        np.random.seed(seed)\n",
    "\n",
    "    # Generate random coordinates for facilities and customers\n",
    "    coord_E = width * np.random.rand(E_size, 2)\n",
    "    coord_D = width * np.random.rand(D_size, 2)\n",
    "    coord_N = width * np.random.rand(N_size, 2)\n",
    "\n",
    "    # Distances \n",
    "    theta_d = np.zeros((N_size, D_size))  # L1 distance from customers to available locations\n",
    "    theta_e = np.zeros((N_size, E_size))  # L1 distance from customers to competitive facilities\n",
    "\n",
    "    for n in range(N_size):\n",
    "        for d in range(D_size):\n",
    "            theta_d[n, d] = np.sum(np.abs(coord_N[n] - coord_D[d]))\n",
    "        for e in range(E_size):\n",
    "            theta_e[n, e] = np.sum(np.abs(coord_N[n] - coord_E[e]))\n",
    "\n",
    "    theta_d = np.round(theta_d, decimals=3)\n",
    "    theta_e = np.round(theta_e, decimals=3)\n",
    "\n",
    "    # Weight of customers\n",
    "    q = np.ones(N_size, dtype=int) #qn=1 \n",
    "\n",
    "    D = [f\"d{i+1}\" for i in range(D_size)]\n",
    "    E = [f\"e{i+1}\" for i in range(E_size)]\n",
    "    N = [f\"n{i+1}\" for i in range(N_size)]\n",
    "\n",
    "    return {\n",
    "        \"D\": D,\n",
    "        \"E\": E,\n",
    "        \"N\": N,\n",
    "        \"coord_D\": coord_D,\n",
    "        \"coord_E\": coord_E,\n",
    "        \"coord_N\": coord_N,\n",
    "        \"theta_d\": theta_d,\n",
    "        \"theta_e\": theta_e,\n",
    "        \"q\": q\n",
    "    }\n"
   ]
  },
  {
   "cell_type": "code",
   "execution_count": 307,
   "id": "bbfe91e4-9b8f-4a17-953c-dec4328b89c4",
   "metadata": {},
   "outputs": [],
   "source": [
    "# visualize instance\n",
    "\n",
    "def visualize_instance(instance, facility_status=None):\n",
    "    plt.figure(figsize=(6, 6))\n",
    "    \n",
    "    # All the locations\n",
    "    pos_D = {f\"Facility_D_{facility}\": pos for facility, pos in zip(instance['D'], instance['coord_D'])}\n",
    "    pos_E = {f\"Facility_E_{facility}\": pos for facility, pos in zip(instance['E'], instance['coord_E'])}\n",
    "    pos_N = {f\"Customer_{customer}\": pos for customer, pos in zip(instance['N'], instance['coord_N'])}\n",
    "    \n",
    "    # Available locations \n",
    "    for node, coords in pos_D.items():\n",
    "        facility_id = node.split('_')[-1]  # Get 'd1', 'd2', etc.\n",
    "        if facility_status and facility_status.get(facility_id) == 1.0:\n",
    "            color = 'black'  # Color black if the status is 1.0\n",
    "        else:\n",
    "            color = 'white'  # Otherwise, color white\n",
    "        plt.scatter(*coords, color=color, edgecolor='black', s=200, marker='^') \n",
    "    \n",
    "    # Competitive facilities\n",
    "    for node, coords in pos_E.items():\n",
    "        plt.scatter(*coords, color='black', s=200, marker='D')\n",
    "    \n",
    "    # Customers\n",
    "    for node, coords in pos_N.items():\n",
    "        plt.scatter(*coords, color='black', s=100, marker='o')  \n",
    "        \n",
    "    #Labels \n",
    "    #for node, coords in {**pos_D, **pos_E, **pos_N}.items():\n",
    "    #    plt.text(coords[0], coords[1], f'{node}\\n({coords[0]:.2f}, {coords[1]:.2f})', \n",
    "    #            fontsize=10, ha='center', color='black')\n",
    "\n",
    "    for node, coords in {**pos_D, **pos_E, **pos_N}.items():\n",
    "        plt.text(coords[0], coords[1], node, fontsize=10, ha='center', color='black')\n",
    "    \n",
    "    # Title\n",
    "    plt.title(\"Instance visualizations\")\n",
    "    plt.axis('equal')  # Mantener las proporciones iguales\n",
    "    plt.show()"
   ]
  },
  {
   "cell_type": "code",
   "execution_count": 309,
   "id": "cbfe7c6d-86f4-4aac-826c-c0c45945d46f",
   "metadata": {},
   "outputs": [
    {
     "data": {
      "image/png": "[encoded data removed]",
      "text/plain": [
       "<Figure size 600x600 with 1 Axes>"
      ]
     },
     "metadata": {},
     "output_type": "display_data"
    }
   ],
   "source": [
    "instance = generate_instance(D_size=2, E_size=1, N_size=2, seed=1)\n",
    "visualize_instance(instance)"
   ]
  },
  {
   "cell_type": "code",
   "execution_count": 430,
   "id": "a5de0ec0-f128-4021-9f86-c4ffd87deeef",
   "metadata": {},
   "outputs": [],
   "source": [
    "def utility_function0(theta, n, c, x, beta_d,beta_a):\n",
    "    \"\"\"\n",
    "    Defines the utility function for a given customer and location.\n",
    "\n",
    "    Args:\n",
    "        theta (ndarray): Distance matrix (either theta_d or theta_e).\n",
    "        c (int): Index of the location.\n",
    "        n (int): Index of the customer.\n",
    "        x (list): Parameter indicating additional amenities for customers (for example)\n",
    "        beta_d (float): Coefficient impacting the distance utility \n",
    "        beta_a (float): Coefficient impacting the amenity utility\n",
    "\n",
    "    Returns:\n",
    "        float: Computed utility value.\n",
    "    \"\"\"\n",
    "    return -beta_d * theta[n, c] + beta_a*x[n]\n",
    "\n",
    "#with this function i am not able (in principle) to change the solution\n"
   ]
  },
  {
   "cell_type": "code",
   "execution_count": 455,
   "id": "1672138d-39c4-48c1-a1e9-d3195d2e3ada",
   "metadata": {},
   "outputs": [],
   "source": [
    "def utility_function(theta, n, c, beta_d,beta_a):\n",
    "    \"\"\"\n",
    "    Defines the utility function for a given customer and location.\n",
    "\n",
    "    Args:\n",
    "        theta (ndarray): Distance matrix (either theta_d or theta_e).\n",
    "        c (int): Index of the location.\n",
    "        n (int): Index of the customer.\n",
    "        x (list): Parameter indicating additional amenities for customers (for example)\n",
    "        beta_d (float): Coefficient impacting the distance utility\n",
    "        beta_a (float): Coefficient (variable) indicating if there are amenities or not \n",
    "\n",
    "    Returns:\n",
    "        float: Computed utility value.\n",
    "    \"\"\"\n",
    "    return -(beta_d-beta_a[n]) * theta[n, c]\n",
    "\n",
    "#here beta_d is a fixed parameter, but beta_a is a `feature'"
   ]
  },
  {
   "cell_type": "code",
   "execution_count": 456,
   "id": "6af922be-0e8e-4f54-a13b-9bd436618183",
   "metadata": {},
   "outputs": [],
   "source": [
    "#Define the linear optimization model for the CFL problem \n",
    "\n",
    "def CFL_MILP(instance, r, beta_a, beta_d=0.1):\n",
    "    \"\"\"\n",
    "    Solves the optimization problem using Gurobi.\n",
    "\n",
    "    Args:\n",
    "        instance (dict): Instance generated\n",
    "        x_values (list): Binary parameter values for x (change to something generally)\n",
    "        beta (float): Coefficient beta for the utility function.\n",
    "        r (integer) : budget (number of facilities to locate)\n",
    "    \"\"\"\n",
    "    D = instance[\"D\"]\n",
    "    E = instance[\"E\"]\n",
    "    N = instance[\"N\"]\n",
    "    theta_d = instance[\"theta_d\"]\n",
    "    theta_e = instance[\"theta_e\"]\n",
    "    q = {N[i]: instance[\"q\"][i] for i in range(len(N))}\n",
    "\n",
    "    # Create the model\n",
    "    model = gp.Model(\"CFL_MILP\")\n",
    "\n",
    "    # Variables\n",
    "    z = model.addVars(D, vtype=gp.GRB.BINARY, name=\"z\")  # Binary variables for the location of the facilities\n",
    "    w = model.addVars(N, D, vtype=gp.GRB.CONTINUOUS, lb=0, name=\"w\")  # Continuous auxiliary variables\n",
    "\n",
    "    # Compute a_{nd} and b_n using the utility function\n",
    "    a = {(N[n], D[d]): np.exp(utility_function(theta_d, n, d, beta_d,beta_a)) for n in range(len(N)) for d in range(len(D))}\n",
    "    b = {N[n]: sum(np.exp(utility_function(theta_e, n, e, beta_d,beta_a)) for e in range(len(E))) for n in range(len(N))}\n",
    "\n",
    "    # Objective function\n",
    "    obj = gp.quicksum(q[n] * (gp.quicksum(a[n, d] / b[n] * z[d] for d in D) -\n",
    "                          gp.quicksum(a[n, d] / b[n] * w[n, d] for d in D)) for n in N)\n",
    "    model.setObjective(obj, GRB.MAXIMIZE)\n",
    "\n",
    "    # Constraints\n",
    "    model.addConstr(gp.quicksum(z[d] for d in D) == r, \"Budget\")\n",
    "\n",
    "    model.addConstrs(\n",
    "        w[n, d] >= gp.quicksum(a[n, d] / b[n] * z[k] for k in D) -\n",
    "                    gp.quicksum(a[n, d] / b[n] * w[n, k] for k in D) - (1 - z[d])\n",
    "        for n in N for d in D\n",
    "    )\n",
    "\n",
    "    # Solve the model\n",
    "    model.optimize()\n",
    "\n",
    "    # Display results\n",
    "    if model.status == gp.GRB.OPTIMAL:\n",
    "        print(\"\\nOptimal Solution:\")\n",
    "        print(\"z:\", {d: z[d].x for d in D})\n",
    "        z_sol={d: z[d].x for d in D}\n",
    "        return z_sol\n",
    "        #print(\"w:\", {(n, d): w[n, d].x for n in N for d in D if w[n, d].x > 1e-6})\n",
    "    else:\n",
    "        print(\"No optimal solution found.\")"
   ]
  },
  {
   "cell_type": "code",
   "execution_count": 458,
   "id": "f93a444d-268a-4a13-b971-b5ba21175ac5",
   "metadata": {
    "scrolled": true
   },
   "outputs": [
    {
     "name": "stdout",
     "output_type": "stream",
     "text": [
      "Gurobi Optimizer version 11.0.1 build v11.0.1rc0 (mac64[arm] - Darwin 23.6.0 23G93)\n",
      "\n",
      "CPU model: Apple M3\n",
      "Thread count: 8 physical cores, 8 logical processors, using up to 8 threads\n",
      "\n",
      "Optimize a model with 5 rows, 6 columns and 18 nonzeros\n",
      "Model fingerprint: 0xdb151e2f\n",
      "Variable types: 4 continuous, 2 integer (2 binary)\n",
      "Coefficient statistics:\n",
      "  Matrix range     [7e-03, 4e+01]\n",
      "  Objective range  [7e-03, 4e+01]\n",
      "  Bounds range     [1e+00, 1e+00]\n",
      "  RHS range        [1e+00, 1e+00]\n",
      "Presolve removed 5 rows and 6 columns\n",
      "Presolve time: 0.00s\n",
      "Presolve: All rows and columns removed\n",
      "\n",
      "Explored 0 nodes (0 simplex iterations) in 0.01 seconds (0.00 work units)\n",
      "Thread count was 1 (of 8 available processors)\n",
      "\n",
      "Solution count 1: 20.2193 \n",
      "\n",
      "Optimal solution found (tolerance 1.00e-04)\n",
      "Best objective 2.021933474810e+01, best bound 2.021933474810e+01, gap 0.0000%\n",
      "\n",
      "Optimal Solution:\n",
      "z: {'d1': 1.0, 'd2': 0.0}\n"
     ]
    }
   ],
   "source": [
    "# Parameters and solve\n",
    "r=1\n",
    "beta_a=[0,0] #no amenities\n",
    "beta_d=0.5\n",
    "z_sol=CFL_MILP(instance, r, beta_a,beta_d)"
   ]
  },
  {
   "cell_type": "code",
   "execution_count": 459,
   "id": "6a565ba6-fe72-49cd-9f3b-e9849a7d1003",
   "metadata": {},
   "outputs": [
    {
     "data": {
      "image/png": "[encoded data removed]",
      "text/plain": [
       "<Figure size 600x600 with 1 Axes>"
      ]
     },
     "metadata": {},
     "output_type": "display_data"
    }
   ],
   "source": [
    "visualize_instance(instance, z_sol)"
   ]
  },
  {
   "cell_type": "code",
   "execution_count": 461,
   "id": "5f0abd88-d7c7-4b6b-8a5c-a57f46664ea9",
   "metadata": {},
   "outputs": [
    {
     "name": "stdout",
     "output_type": "stream",
     "text": [
      "Gurobi Optimizer version 11.0.1 build v11.0.1rc0 (mac64[arm] - Darwin 23.6.0 23G93)\n",
      "\n",
      "CPU model: Apple M3\n",
      "Thread count: 8 physical cores, 8 logical processors, using up to 8 threads\n",
      "\n",
      "Optimize a model with 5 rows, 6 columns and 18 nonzeros\n",
      "Model fingerprint: 0x7830fca1\n",
      "Variable types: 4 continuous, 2 integer (2 binary)\n",
      "Coefficient statistics:\n",
      "  Matrix range     [7e-03, 1e+00]\n",
      "  Objective range  [7e-03, 5e-02]\n",
      "  Bounds range     [1e+00, 1e+00]\n",
      "  RHS range        [1e+00, 1e+00]\n",
      "Presolve removed 5 rows and 6 columns\n",
      "Presolve time: 0.00s\n",
      "Presolve: All rows and columns removed\n",
      "\n",
      "Explored 0 nodes (0 simplex iterations) in 0.00 seconds (0.00 work units)\n",
      "Thread count was 1 (of 8 available processors)\n",
      "\n",
      "Solution count 1: 0.049018 \n",
      "No other solutions better than 0.049018\n",
      "\n",
      "Optimal solution found (tolerance 1.00e-04)\n",
      "Best objective 4.901801385738e-02, best bound 4.901801385738e-02, gap 0.0000%\n",
      "\n",
      "Optimal Solution:\n",
      "z: {'d1': 0.0, 'd2': 1.0}\n"
     ]
    },
    {
     "data": {
      "image/png": "[encoded data removed]",
      "text/plain": [
       "<Figure size 600x600 with 1 Axes>"
      ]
     },
     "metadata": {},
     "output_type": "display_data"
    }
   ],
   "source": [
    "beta_a=[1,0] #customer 1 has amenity\n",
    "z_sol=CFL_MILP(instance, r, beta_a,beta_d)\n",
    "visualize_instance(instance, z_sol)"
   ]
  },
  {
   "cell_type": "code",
   "execution_count": 415,
   "id": "c7c3db83-5efb-4712-b32f-b3dd6a3e05d3",
   "metadata": {},
   "outputs": [
    {
     "data": {
      "text/plain": [
       "12.797"
      ]
     },
     "execution_count": 415,
     "metadata": {},
     "output_type": "execute_result"
    }
   ],
   "source": [
    "utility_function(theta_e, 0, 0, [1,0], 0.1,14)"
   ]
  },
  {
   "cell_type": "code",
   "execution_count": null,
   "id": "12f4de87-34ed-4a15-99cd-6e9d6748a324",
   "metadata": {},
   "outputs": [],
   "source": []
  }
 ],
 "metadata": {
  "kernelspec": {
   "display_name": "Python 3 (ipykernel)",
   "language": "python",
   "name": "python3"
  },
  "language_info": {
   "codemirror_mode": {
    "name": "ipython",
    "version": 3
   },
   "file_extension": ".py",
   "mimetype": "text/x-python",
   "name": "python",
   "nbconvert_exporter": "python",
   "pygments_lexer": "ipython3",
   "version": "3.11.7"
  }
 },
 "nbformat": 4,
 "nbformat_minor": 5
}

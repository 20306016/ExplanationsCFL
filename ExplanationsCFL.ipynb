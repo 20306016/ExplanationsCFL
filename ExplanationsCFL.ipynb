{
 "cells": [
  {
   "cell_type": "code",
   "execution_count": 200,
   "id": "7b4b8947-e23c-46ec-9f3c-dcdbd65e3f85",
   "metadata": {},
   "outputs": [],
   "source": [
    "import pandas as pd\n",
    "import matplotlib.pyplot as plt\n",
    "import numpy as np\n",
    "import gurobipy as gp\n",
    "from gurobipy import GRB\n",
    "import networkx as nx"
   ]
  },
  {
   "cell_type": "code",
   "execution_count": 305,
   "id": "d5800d4b-c693-401d-a1e6-0c1e5a029dfd",
   "metadata": {},
   "outputs": [],
   "source": [
    "#Solve the CFL (linear)\n",
    "# D available locations, E competitive locations C=E\\cup E\n",
    "#utility function v_c^n(beta,distance,x) e.g. v_c^n=-beta*distance-x\n",
    "#q_n weight of each customer"
   ]
  },
  {
   "cell_type": "code",
   "execution_count": 306,
   "id": "3420057d-80d4-4042-9e22-71fa8773dcdd",
   "metadata": {},
   "outputs": [],
   "source": [
    "#Generate data\n",
    "def generate_instance(D_size, E_size, N_size, width=20, seed=0):\n",
    "    \"\"\"\n",
    "    Generate an instance.\n",
    "    \n",
    "    Args:\n",
    "        D_size (int): Number of available locations\n",
    "        E_size (int): Number of competitive facilities\n",
    "        N_size (int): Number of customers\n",
    "        width (int): width of the square on which customers are uniformly distributed\n",
    "        seed (int): seed provided to the random number generator\n",
    "\n",
    "    Returns:\n",
    "        dict: Diccionario con conjuntos y parámetros generados.\n",
    "    \"\"\"\n",
    "    if seed != 0:\n",
    "        np.random.seed(seed)\n",
    "\n",
    "    # Generate random coordinates for facilities and customers\n",
    "    coord_E = width * np.random.rand(E_size, 2)\n",
    "    coord_D = width * np.random.rand(D_size, 2)\n",
    "    coord_N = width * np.random.rand(N_size, 2)\n",
    "\n",
    "    # Distances \n",
    "    theta_d = np.zeros((N_size, D_size))  # L1 distance from customers to available locations\n",
    "    theta_e = np.zeros((N_size, E_size))  # L1 distance from customers to competitive facilities\n",
    "\n",
    "    for n in range(N_size):\n",
    "        for d in range(D_size):\n",
    "            theta_d[n, d] = np.sum(np.abs(coord_N[n] - coord_D[d]))\n",
    "        for e in range(E_size):\n",
    "            theta_e[n, e] = np.sum(np.abs(coord_N[n] - coord_E[e]))\n",
    "\n",
    "    theta_d = np.round(theta_d, decimals=3)\n",
    "    theta_e = np.round(theta_e, decimals=3)\n",
    "\n",
    "    # Weight of customers\n",
    "    q = np.ones(N_size, dtype=int) #qn=1 \n",
    "\n",
    "    D = [f\"d{i+1}\" for i in range(D_size)]\n",
    "    E = [f\"e{i+1}\" for i in range(E_size)]\n",
    "    N = [f\"n{i+1}\" for i in range(N_size)]\n",
    "\n",
    "    return {\n",
    "        \"D\": D,\n",
    "        \"E\": E,\n",
    "        \"N\": N,\n",
    "        \"coord_D\": coord_D,\n",
    "        \"coord_E\": coord_E,\n",
    "        \"coord_N\": coord_N,\n",
    "        \"theta_d\": theta_d,\n",
    "        \"theta_e\": theta_e,\n",
    "        \"q\": q\n",
    "    }\n"
   ]
  },
  {
   "cell_type": "code",
   "execution_count": 307,
   "id": "bbfe91e4-9b8f-4a17-953c-dec4328b89c4",
   "metadata": {},
   "outputs": [],
   "source": [
    "# visualize instance\n",
    "\n",
    "def visualize_instance(instance, facility_status=None):\n",
    "    plt.figure(figsize=(6, 6))\n",
    "    \n",
    "    # All the locations\n",
    "    pos_D = {f\"Facility_D_{facility}\": pos for facility, pos in zip(instance['D'], instance['coord_D'])}\n",
    "    pos_E = {f\"Facility_E_{facility}\": pos for facility, pos in zip(instance['E'], instance['coord_E'])}\n",
    "    pos_N = {f\"Customer_{customer}\": pos for customer, pos in zip(instance['N'], instance['coord_N'])}\n",
    "    \n",
    "    # Available locations \n",
    "    for node, coords in pos_D.items():\n",
    "        facility_id = node.split('_')[-1]  # Get 'd1', 'd2', etc.\n",
    "        if facility_status and facility_status.get(facility_id) == 1.0:\n",
    "            color = 'black'  # Color black if the status is 1.0\n",
    "        else:\n",
    "            color = 'white'  # Otherwise, color white\n",
    "        plt.scatter(*coords, color=color, edgecolor='black', s=200, marker='^') \n",
    "    \n",
    "    # Competitive facilities\n",
    "    for node, coords in pos_E.items():\n",
    "        plt.scatter(*coords, color='black', s=200, marker='D')\n",
    "    \n",
    "    # Customers\n",
    "    for node, coords in pos_N.items():\n",
    "        plt.scatter(*coords, color='black', s=100, marker='o')  \n",
    "        \n",
    "    #Labels \n",
    "    #for node, coords in {**pos_D, **pos_E, **pos_N}.items():\n",
    "    #    plt.text(coords[0], coords[1], f'{node}\\n({coords[0]:.2f}, {coords[1]:.2f})', \n",
    "    #            fontsize=10, ha='center', color='black')\n",
    "\n",
    "    for node, coords in {**pos_D, **pos_E, **pos_N}.items():\n",
    "        plt.text(coords[0], coords[1], node, fontsize=10, ha='center', color='black')\n",
    "    \n",
    "    # Title\n",
    "    plt.title(\"Instance visualizations\")\n",
    "    plt.axis('equal')  # Mantener las proporciones iguales\n",
    "    plt.show()"
   ]
  },
  {
   "cell_type": "code",
   "execution_count": 309,
   "id": "cbfe7c6d-86f4-4aac-826c-c0c45945d46f",
   "metadata": {},
   "outputs": [
    {
     "data": {
      "image/png": "[encoded data removed]",
      "text/plain": [
       "<Figure size 600x600 with 1 Axes>"
      ]
     },
     "metadata": {},
     "output_type": "display_data"
    }
   ],
   "source": [
    "instance = generate_instance(D_size=2, E_size=1, N_size=2, seed=1)\n",
    "visualize_instance(instance)"
   ]
  },
  {
   "cell_type": "code",
   "execution_count": 310,
   "id": "a5de0ec0-f128-4021-9f86-c4ffd87deeef",
   "metadata": {},
   "outputs": [],
   "source": [
    "def utility_function(theta, n, c, x, beta_d,beta_a):\n",
    "    \"\"\"\n",
    "    Defines the utility function for a given customer and location.\n",
    "\n",
    "    Args:\n",
    "        theta (ndarray): Distance matrix (either theta_d or theta_e).\n",
    "        c (int): Index of the location.\n",
    "        n (int): Index of the customer.\n",
    "        x (list): Parameter indicating additional amenities for customers (for example)\n",
    "        beta (float): Coefficient impacting the utility.\n",
    "\n",
    "    Returns:\n",
    "        float: Computed utility value.\n",
    "    \"\"\"\n",
    "    return -beta_d * theta[n, c] + beta_a*x[n]\n",
    "\n",
    "#does it make sense this utility function? does x affect the solution?\n"
   ]
  },
  {
   "cell_type": "code",
   "execution_count": 311,
   "id": "6af922be-0e8e-4f54-a13b-9bd436618183",
   "metadata": {},
   "outputs": [],
   "source": [
    "#Define the linear optimization model for the CFL problem \n",
    "\n",
    "def CFL_MILP(instance, x_values, r, beta_a, beta_d=0.1):\n",
    "    \"\"\"\n",
    "    Solves the optimization problem using Gurobi.\n",
    "\n",
    "    Args:\n",
    "        instance (dict): Instance generated\n",
    "        x_values (list): Binary parameter values for x (change to something generally)\n",
    "        beta (float): Coefficient beta for the utility function.\n",
    "        r (integer) : budget (number of facilities to locate)\n",
    "    \"\"\"\n",
    "    D = instance[\"D\"]\n",
    "    E = instance[\"E\"]\n",
    "    N = instance[\"N\"]\n",
    "    theta_d = instance[\"theta_d\"]\n",
    "    theta_e = instance[\"theta_e\"]\n",
    "    q = {N[i]: instance[\"q\"][i] for i in range(len(N))}\n",
    "\n",
    "    # Create the model\n",
    "    model = gp.Model(\"CFL_MILP\")\n",
    "\n",
    "    # Variables\n",
    "    z = model.addVars(D, vtype=gp.GRB.BINARY, name=\"z\")  # Binary variables for the location of the facilities\n",
    "    w = model.addVars(N, D, vtype=gp.GRB.CONTINUOUS, lb=0, name=\"w\")  # Continuous auxiliary variables\n",
    "\n",
    "    # Compute a_{nd} and b_n using the utility function\n",
    "    a = {(N[n], D[d]): np.exp(utility_function(theta_d, n, d, x_values, beta_d,beta_a)) for n in range(len(N)) for d in range(len(D))}\n",
    "    b = {N[n]: sum(np.exp(utility_function(theta_e, n, e, x_values, beta_d,beta_a)) for e in range(len(E))) for n in range(len(N))}\n",
    "\n",
    "    # Objective function\n",
    "    obj = gp.quicksum(q[n] * (gp.quicksum(a[n, d] / b[n] * z[d] for d in D) -\n",
    "                          gp.quicksum(a[n, d] / b[n] * w[n, d] for d in D)) for n in N)\n",
    "    model.setObjective(obj, GRB.MAXIMIZE)\n",
    "\n",
    "    # Constraints\n",
    "    model.addConstr(gp.quicksum(z[d] for d in D) == r, \"Budget\")\n",
    "\n",
    "    model.addConstrs(\n",
    "        w[n, d] >= gp.quicksum(a[n, d] / b[n] * z[k] for k in D) -\n",
    "                    gp.quicksum(a[n, d] / b[n] * w[n, k] for k in D) - (1 - z[d])\n",
    "        for n in N for d in D\n",
    "    )\n",
    "\n",
    "    # Solve the model\n",
    "    model.optimize()\n",
    "\n",
    "    # Display results\n",
    "    if model.status == gp.GRB.OPTIMAL:\n",
    "        print(\"\\nOptimal Solution:\")\n",
    "        print(\"z:\", {d: z[d].x for d in D})\n",
    "        z_sol={d: z[d].x for d in D}\n",
    "        return z_sol\n",
    "        #print(\"w:\", {(n, d): w[n, d].x for n in N for d in D if w[n, d].x > 1e-6})\n",
    "    else:\n",
    "        print(\"No optimal solution found.\")"
   ]
  },
  {
   "cell_type": "code",
   "execution_count": 312,
   "id": "f93a444d-268a-4a13-b971-b5ba21175ac5",
   "metadata": {
    "scrolled": true
   },
   "outputs": [
    {
     "name": "stdout",
     "output_type": "stream",
     "text": [
      "Gurobi Optimizer version 11.0.1 build v11.0.1rc0 (mac64[arm] - Darwin 23.6.0 23G93)\n",
      "\n",
      "CPU model: Apple M3\n",
      "Thread count: 8 physical cores, 8 logical processors, using up to 8 threads\n",
      "\n",
      "Optimize a model with 5 rows, 6 columns and 18 nonzeros\n",
      "Model fingerprint: 0x479bc6b1\n",
      "Variable types: 4 continuous, 2 integer (2 binary)\n",
      "Coefficient statistics:\n",
      "  Matrix range     [4e-01, 3e+00]\n",
      "  Objective range  [4e-01, 3e+00]\n",
      "  Bounds range     [1e+00, 1e+00]\n",
      "  RHS range        [1e+00, 1e+00]\n",
      "Presolve removed 1 rows and 1 columns\n",
      "Presolve time: 0.00s\n",
      "Presolved: 4 rows, 5 columns, 12 nonzeros\n",
      "Variable types: 4 continuous, 1 integer (1 binary)\n",
      "Found heuristic solution: objective 0.9764561\n",
      "\n",
      "Root relaxation: objective 1.100357e+00, 4 iterations, 0.00 seconds (0.00 work units)\n",
      "\n",
      "    Nodes    |    Current Node    |     Objective Bounds      |     Work\n",
      " Expl Unexpl |  Obj  Depth IntInf | Incumbent    BestBd   Gap | It/Node Time\n",
      "\n",
      "     0     0    1.10036    0    1    0.97646    1.10036  12.7%     -    0s\n",
      "\n",
      "Cutting planes:\n",
      "  Gomory: 1\n",
      "  MIR: 2\n",
      "  RLT: 1\n",
      "  Relax-and-lift: 1\n",
      "\n",
      "Explored 1 nodes (4 simplex iterations) in 0.01 seconds (0.00 work units)\n",
      "Thread count was 8 (of 8 available processors)\n",
      "\n",
      "Solution count 1: 0.976456 \n",
      "No other solutions better than 0.976456\n",
      "\n",
      "Optimal solution found (tolerance 1.00e-04)\n",
      "Best objective 9.764560996849e-01, best bound 9.764560996849e-01, gap 0.0000%\n",
      "\n",
      "Optimal Solution:\n",
      "z: {'d1': 1.0, 'd2': 0.0}\n"
     ]
    }
   ],
   "source": [
    "# Parameters and solve\n",
    "x_values = [0, 0]  # no amenities\n",
    "r=1\n",
    "beta_a=1\n",
    "beta_d=0.1\n",
    "z_sol=CFL_MILP(instance, x_values, r, beta_a,beta_d)"
   ]
  },
  {
   "cell_type": "code",
   "execution_count": 313,
   "id": "6a565ba6-fe72-49cd-9f3b-e9849a7d1003",
   "metadata": {},
   "outputs": [
    {
     "data": {
      "image/png": "[encoded data removed]",
      "text/plain": [
       "<Figure size 600x600 with 1 Axes>"
      ]
     },
     "metadata": {},
     "output_type": "display_data"
    }
   ],
   "source": [
    "visualize_instance(instance, z_sol)"
   ]
  },
  {
   "cell_type": "code",
   "execution_count": 314,
   "id": "5f0abd88-d7c7-4b6b-8a5c-a57f46664ea9",
   "metadata": {},
   "outputs": [
    {
     "name": "stdout",
     "output_type": "stream",
     "text": [
      "Gurobi Optimizer version 11.0.1 build v11.0.1rc0 (mac64[arm] - Darwin 23.6.0 23G93)\n",
      "\n",
      "CPU model: Apple M3\n",
      "Thread count: 8 physical cores, 8 logical processors, using up to 8 threads\n",
      "\n",
      "Optimize a model with 5 rows, 6 columns and 18 nonzeros\n",
      "Model fingerprint: 0x2bf44fac\n",
      "Variable types: 4 continuous, 2 integer (2 binary)\n",
      "Coefficient statistics:\n",
      "  Matrix range     [4e-01, 3e+00]\n",
      "  Objective range  [4e-01, 3e+00]\n",
      "  Bounds range     [1e+00, 1e+00]\n",
      "  RHS range        [1e+00, 1e+00]\n",
      "Presolve removed 1 rows and 1 columns\n",
      "Presolve time: 0.00s\n",
      "Presolved: 4 rows, 5 columns, 12 nonzeros\n",
      "Variable types: 4 continuous, 1 integer (1 binary)\n",
      "Found heuristic solution: objective 0.9764561\n",
      "\n",
      "Root relaxation: objective 1.100357e+00, 4 iterations, 0.00 seconds (0.00 work units)\n",
      "\n",
      "    Nodes    |    Current Node    |     Objective Bounds      |     Work\n",
      " Expl Unexpl |  Obj  Depth IntInf | Incumbent    BestBd   Gap | It/Node Time\n",
      "\n",
      "     0     0    1.10036    0    1    0.97646    1.10036  12.7%     -    0s\n",
      "\n",
      "Cutting planes:\n",
      "  Gomory: 1\n",
      "  MIR: 2\n",
      "  RLT: 1\n",
      "  Relax-and-lift: 1\n",
      "\n",
      "Explored 1 nodes (4 simplex iterations) in 0.01 seconds (0.00 work units)\n",
      "Thread count was 8 (of 8 available processors)\n",
      "\n",
      "Solution count 1: 0.976456 \n",
      "No other solutions better than 0.976456\n",
      "\n",
      "Optimal solution found (tolerance 1.00e-04)\n",
      "Best objective 9.764560996849e-01, best bound 9.764560996849e-01, gap 0.0000%\n",
      "\n",
      "Optimal Solution:\n",
      "z: {'d1': 1.0, 'd2': 0.0}\n"
     ]
    },
    {
     "data": {
      "image/png": "[encoded data removed]",
      "text/plain": [
       "<Figure size 600x600 with 1 Axes>"
      ]
     },
     "metadata": {},
     "output_type": "display_data"
    }
   ],
   "source": [
    "x_values=[0,1] #customer 2 has an amenity\n",
    "z_sol=CFL_MILP(instance, x_values, r, beta_a,beta_d)\n",
    "visualize_instance(instance, z_sol)"
   ]
  },
  {
   "cell_type": "code",
   "execution_count": 316,
   "id": "38dfda86-59cc-42ec-853e-94e71217bed9",
   "metadata": {},
   "outputs": [],
   "source": [
    "#did not change the solution"
   ]
  },
  {
   "cell_type": "code",
   "execution_count": null,
   "id": "84478194-f7b7-4391-b8b0-6437c0ef5113",
   "metadata": {},
   "outputs": [],
   "source": []
  }
 ],
 "metadata": {
  "kernelspec": {
   "display_name": "Python 3 (ipykernel)",
   "language": "python",
   "name": "python3"
  },
  "language_info": {
   "codemirror_mode": {
    "name": "ipython",
    "version": 3
   },
   "file_extension": ".py",
   "mimetype": "text/x-python",
   "name": "python",
   "nbconvert_exporter": "python",
   "pygments_lexer": "ipython3",
   "version": "3.11.7"
  }
 },
 "nbformat": 4,
 "nbformat_minor": 5
}
